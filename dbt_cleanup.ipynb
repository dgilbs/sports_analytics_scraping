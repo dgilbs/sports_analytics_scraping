{
 "cells": [
  {
   "cell_type": "code",
   "execution_count": 1,
   "id": "15e185b6",
   "metadata": {},
   "outputs": [],
   "source": [
    "import os"
   ]
  },
  {
   "cell_type": "code",
   "execution_count": 2,
   "id": "5bc4e28b",
   "metadata": {},
   "outputs": [
    {
     "data": {
      "text/plain": [
       "['python3.13']"
      ]
     },
     "execution_count": 2,
     "metadata": {},
     "output_type": "execute_result"
    }
   ],
   "source": [
    "os.listdir('dbt_env/include/')"
   ]
  },
  {
   "cell_type": "code",
   "execution_count": null,
   "id": "917d7407",
   "metadata": {},
   "outputs": [],
   "source": [
    "conn = psycopg2.connect(database = \"datacamp_courses\", \n",
    "                        user = \"datacamp\", \n",
    "                        host= 'localhost',\n",
    "                        password = \"postgresql_tutorial\",\n",
    "                        port = 5432)"
   ]
  }
 ],
 "metadata": {
  "kernelspec": {
   "display_name": "Python 3 (ipykernel)",
   "language": "python",
   "name": "python3"
  },
  "language_info": {
   "codemirror_mode": {
    "name": "ipython",
    "version": 3
   },
   "file_extension": ".py",
   "mimetype": "text/x-python",
   "name": "python",
   "nbconvert_exporter": "python",
   "pygments_lexer": "ipython3",
   "version": "3.8.9"
  }
 },
 "nbformat": 4,
 "nbformat_minor": 5
}
