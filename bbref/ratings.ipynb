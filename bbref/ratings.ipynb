{
 "cells": [
  {
   "cell_type": "code",
   "execution_count": 1,
   "id": "8a7a6816-c176-4ce2-a0af-693f4f80f266",
   "metadata": {},
   "outputs": [],
   "source": [
    "import pandas as pd\n",
    "import os\n",
    "import sys\n",
    "import yaml\n",
    "import numpy as np\n",
    "import requests\n",
    "current_dir = os.getcwd()\n",
    "parent_dir = os.path.abspath(os.path.join(current_dir, '../base_code/'))\n",
    "sys.path.append(parent_dir)\n",
    "import query_db as qdb\n",
    "import warnings\n",
    "from basketball_rating_system import PlayerRatings\n",
    "from scipy.stats import percentileofscore\n",
    "import random\n",
    "from functools import reduce\n",
    "from scipy import stats\n",
    "from datetime import date\n",
    "from io import StringIO"
   ]
  },
  {
   "cell_type": "code",
   "execution_count": 2,
   "id": "d724d7ea-e562-4e5f-90ba-38160c989fa7",
   "metadata": {},
   "outputs": [],
   "source": [
    "warnings.filterwarnings('ignore')\n",
    "\n",
    "\n",
    "with open('../base_code/primary_config.yaml', 'r') as file:\n",
    "    config = yaml.safe_load(file)\n",
    "\n",
    "conn_string = config['conn_string']"
   ]
  },
  {
   "cell_type": "code",
   "execution_count": 26,
   "id": "64a8c868-d645-4c0d-887d-5e3b367846e4",
   "metadata": {},
   "outputs": [],
   "source": [
    "#class PlayerRatings:\n",
    "\n",
    "    # def __init__(self, benchmark_data, scoring_data):\n",
    "    #     self.benchmark_data = benchmark_data\n",
    "    #     self.scoring_data = scoring_data\n",
    "    #     self.key_metrics = ['points', 'assists']\n",
    "\n",
    "\n",
    "    # def add_metrics(self):\n",
    "    #     self.benchmark_data['assist_to_turnover_ratio'] = self.benchmark_data.apply(lambda row: self._assist_to_turnover_ratio(row), axis=1)\n",
    "    #     self.scoring_data['assist_to_turnover_ratio'] = self.scoring_data.apply(lambda row: self._assist_to_turnover_ratio(row), axis=1)\n",
    "\n",
    "    # def add_per_36_metrics(self):\n",
    "    #     for col in self.key_metrics:\n",
    "    #         new_col = '{}_36'.format(col)\n",
    "    #         self.benchmark_data[new_col] = (self.benchmark_data[col]/self.benchmark_data['minutes_played']) * 36\n",
    "    #         self.scoring_data[new_col] = (self.scoring_data[col]/self.scoring_data['minutes_played']) * 36\n",
    "\n",
    "    # def _assist_to_turnover_ratio(self, row):\n",
    "    #     asts = row['assists']\n",
    "    #     tos = row['turnovers']\n",
    "    #     if tos == 0:\n",
    "    #         new_tos = 0.5\n",
    "    #         final = asts/new_tos\n",
    "    #     else:\n",
    "    #         final = asts/tos\n",
    "    #     return round(final, 4)"
   ]
  },
  {
   "cell_type": "code",
   "execution_count": 3,
   "id": "72408337-ea8f-4502-a8dc-e77656eafd44",
   "metadata": {},
   "outputs": [
    {
     "name": "stdout",
     "output_type": "stream",
     "text": [
      "CPU times: user 90.3 ms, sys: 16.6 ms, total: 107 ms\n",
      "Wall time: 252 ms\n"
     ]
    }
   ],
   "source": [
    "%%time\n",
    "\n",
    "query = \"\"\"\n",
    "    select \n",
    "    *\n",
    "    from basketball.player_game_box_scores\n",
    "\n",
    "\n",
    "\"\"\"\n",
    "\n",
    "benchmark = qdb.query_to_dataframe(query, conn_string)\n",
    "\n",
    "benchmark['game_date'] = pd.to_datetime(benchmark.game_date).dt.date\n",
    "\n",
    "sd = date(year=2025, month=8, day=8)\n",
    "\n",
    "scoring = benchmark[benchmark.game_date >= sd]\n",
    "\n",
    "pr = PlayerRatings(benchmark, scoring)"
   ]
  },
  {
   "cell_type": "code",
   "execution_count": 4,
   "id": "f884cc07-5db3-4c8f-8bc3-301afa92e610",
   "metadata": {},
   "outputs": [],
   "source": [
    "pr.add_per_36_metrics()"
   ]
  },
  {
   "cell_type": "code",
   "execution_count": 5,
   "id": "7486b081-f70d-4c13-ad8c-845bffffb60d",
   "metadata": {},
   "outputs": [
    {
     "ename": "KeyError",
     "evalue": "'player_field_goal_attempts'",
     "output_type": "error",
     "traceback": [
      "\u001b[31m---------------------------------------------------------------------------\u001b[39m",
      "\u001b[31mKeyError\u001b[39m                                  Traceback (most recent call last)",
      "\u001b[36mFile \u001b[39m\u001b[32m~/Desktop/sports_analytics_scraping/dbt_env/lib/python3.13/site-packages/pandas/core/indexes/base.py:3805\u001b[39m, in \u001b[36mIndex.get_loc\u001b[39m\u001b[34m(self, key)\u001b[39m\n\u001b[32m   3804\u001b[39m \u001b[38;5;28;01mtry\u001b[39;00m:\n\u001b[32m-> \u001b[39m\u001b[32m3805\u001b[39m     \u001b[38;5;28;01mreturn\u001b[39;00m \u001b[38;5;28;43mself\u001b[39;49m\u001b[43m.\u001b[49m\u001b[43m_engine\u001b[49m\u001b[43m.\u001b[49m\u001b[43mget_loc\u001b[49m\u001b[43m(\u001b[49m\u001b[43mcasted_key\u001b[49m\u001b[43m)\u001b[49m\n\u001b[32m   3806\u001b[39m \u001b[38;5;28;01mexcept\u001b[39;00m \u001b[38;5;167;01mKeyError\u001b[39;00m \u001b[38;5;28;01mas\u001b[39;00m err:\n",
      "\u001b[36mFile \u001b[39m\u001b[32mindex.pyx:167\u001b[39m, in \u001b[36mpandas._libs.index.IndexEngine.get_loc\u001b[39m\u001b[34m()\u001b[39m\n",
      "\u001b[36mFile \u001b[39m\u001b[32mindex.pyx:196\u001b[39m, in \u001b[36mpandas._libs.index.IndexEngine.get_loc\u001b[39m\u001b[34m()\u001b[39m\n",
      "\u001b[36mFile \u001b[39m\u001b[32mpandas/_libs/hashtable_class_helper.pxi:7081\u001b[39m, in \u001b[36mpandas._libs.hashtable.PyObjectHashTable.get_item\u001b[39m\u001b[34m()\u001b[39m\n",
      "\u001b[36mFile \u001b[39m\u001b[32mpandas/_libs/hashtable_class_helper.pxi:7089\u001b[39m, in \u001b[36mpandas._libs.hashtable.PyObjectHashTable.get_item\u001b[39m\u001b[34m()\u001b[39m\n",
      "\u001b[31mKeyError\u001b[39m: 'player_field_goal_attempts'",
      "\nThe above exception was the direct cause of the following exception:\n",
      "\u001b[31mKeyError\u001b[39m                                  Traceback (most recent call last)",
      "\u001b[36mCell\u001b[39m\u001b[36m \u001b[39m\u001b[32mIn[5]\u001b[39m\u001b[32m, line 1\u001b[39m\n\u001b[32m----> \u001b[39m\u001b[32m1\u001b[39m \u001b[43mpr\u001b[49m\u001b[43m.\u001b[49m\u001b[43madd_metrics\u001b[49m\u001b[43m(\u001b[49m\u001b[43m)\u001b[49m\n",
      "\u001b[36mFile \u001b[39m\u001b[32m~/Desktop/sports_analytics_scraping/base_code/basketball_rating_system.py:35\u001b[39m, in \u001b[36mPlayerRatings.add_metrics\u001b[39m\u001b[34m(self)\u001b[39m\n\u001b[32m     32\u001b[39m \u001b[38;5;28mself\u001b[39m.benchmark_data[\u001b[33m'\u001b[39m\u001b[33mplaymaking_efficiency_score\u001b[39m\u001b[33m'\u001b[39m] = \u001b[38;5;28mself\u001b[39m.benchmark_data.apply(\u001b[38;5;28;01mlambda\u001b[39;00m row: \u001b[38;5;28mself\u001b[39m._playmaking_efficiency_score(row), axis=\u001b[32m1\u001b[39m)\n\u001b[32m     33\u001b[39m \u001b[38;5;28mself\u001b[39m.scoring_data[\u001b[33m'\u001b[39m\u001b[33mplaymaking_efficiency_score\u001b[39m\u001b[33m'\u001b[39m] = \u001b[38;5;28mself\u001b[39m.scoring_data.apply(\u001b[38;5;28;01mlambda\u001b[39;00m row: \u001b[38;5;28mself\u001b[39m._playmaking_efficiency_score(row), axis=\u001b[32m1\u001b[39m)\n\u001b[32m---> \u001b[39m\u001b[32m35\u001b[39m \u001b[38;5;28mself\u001b[39m.benchmark_data[\u001b[33m'\u001b[39m\u001b[33musage_rate\u001b[39m\u001b[33m'\u001b[39m] = \u001b[38;5;28;43mself\u001b[39;49m\u001b[43m.\u001b[49m\u001b[43mbenchmark_data\u001b[49m\u001b[43m.\u001b[49m\u001b[43mapply\u001b[49m\u001b[43m(\u001b[49m\u001b[38;5;28;43;01mlambda\u001b[39;49;00m\u001b[43m \u001b[49m\u001b[43mrow\u001b[49m\u001b[43m:\u001b[49m\u001b[43m \u001b[49m\u001b[38;5;28;43mself\u001b[39;49m\u001b[43m.\u001b[49m\u001b[43m_usage_rate\u001b[49m\u001b[43m(\u001b[49m\u001b[43mrow\u001b[49m\u001b[43m)\u001b[49m\u001b[43m,\u001b[49m\u001b[43m \u001b[49m\u001b[43maxis\u001b[49m\u001b[43m=\u001b[49m\u001b[32;43m1\u001b[39;49m\u001b[43m)\u001b[49m\n\u001b[32m     36\u001b[39m \u001b[38;5;28mself\u001b[39m.scoring_data[\u001b[33m'\u001b[39m\u001b[33musage_rate\u001b[39m\u001b[33m'\u001b[39m] = \u001b[38;5;28mself\u001b[39m.scoring_data.apply(\u001b[38;5;28;01mlambda\u001b[39;00m row: \u001b[38;5;28mself\u001b[39m._usage_rate(row), axis=\u001b[32m1\u001b[39m)\n\u001b[32m     38\u001b[39m \u001b[38;5;28mself\u001b[39m.benchmark_data[\u001b[33m'\u001b[39m\u001b[33mdefensive_efficiency_rating\u001b[39m\u001b[33m'\u001b[39m] = \u001b[38;5;28mself\u001b[39m.benchmark_data.apply(\u001b[38;5;28;01mlambda\u001b[39;00m row: \u001b[38;5;28mself\u001b[39m._defensive_efficiency_rating(row), axis=\u001b[32m1\u001b[39m)\n",
      "\u001b[36mFile \u001b[39m\u001b[32m~/Desktop/sports_analytics_scraping/dbt_env/lib/python3.13/site-packages/pandas/core/frame.py:10374\u001b[39m, in \u001b[36mDataFrame.apply\u001b[39m\u001b[34m(self, func, axis, raw, result_type, args, by_row, engine, engine_kwargs, **kwargs)\u001b[39m\n\u001b[32m  10360\u001b[39m \u001b[38;5;28;01mfrom\u001b[39;00m\u001b[38;5;250m \u001b[39m\u001b[34;01mpandas\u001b[39;00m\u001b[34;01m.\u001b[39;00m\u001b[34;01mcore\u001b[39;00m\u001b[34;01m.\u001b[39;00m\u001b[34;01mapply\u001b[39;00m\u001b[38;5;250m \u001b[39m\u001b[38;5;28;01mimport\u001b[39;00m frame_apply\n\u001b[32m  10362\u001b[39m op = frame_apply(\n\u001b[32m  10363\u001b[39m     \u001b[38;5;28mself\u001b[39m,\n\u001b[32m  10364\u001b[39m     func=func,\n\u001b[32m   (...)\u001b[39m\u001b[32m  10372\u001b[39m     kwargs=kwargs,\n\u001b[32m  10373\u001b[39m )\n\u001b[32m> \u001b[39m\u001b[32m10374\u001b[39m \u001b[38;5;28;01mreturn\u001b[39;00m \u001b[43mop\u001b[49m\u001b[43m.\u001b[49m\u001b[43mapply\u001b[49m\u001b[43m(\u001b[49m\u001b[43m)\u001b[49m.__finalize__(\u001b[38;5;28mself\u001b[39m, method=\u001b[33m\"\u001b[39m\u001b[33mapply\u001b[39m\u001b[33m\"\u001b[39m)\n",
      "\u001b[36mFile \u001b[39m\u001b[32m~/Desktop/sports_analytics_scraping/dbt_env/lib/python3.13/site-packages/pandas/core/apply.py:916\u001b[39m, in \u001b[36mFrameApply.apply\u001b[39m\u001b[34m(self)\u001b[39m\n\u001b[32m    913\u001b[39m \u001b[38;5;28;01melif\u001b[39;00m \u001b[38;5;28mself\u001b[39m.raw:\n\u001b[32m    914\u001b[39m     \u001b[38;5;28;01mreturn\u001b[39;00m \u001b[38;5;28mself\u001b[39m.apply_raw(engine=\u001b[38;5;28mself\u001b[39m.engine, engine_kwargs=\u001b[38;5;28mself\u001b[39m.engine_kwargs)\n\u001b[32m--> \u001b[39m\u001b[32m916\u001b[39m \u001b[38;5;28;01mreturn\u001b[39;00m \u001b[38;5;28;43mself\u001b[39;49m\u001b[43m.\u001b[49m\u001b[43mapply_standard\u001b[49m\u001b[43m(\u001b[49m\u001b[43m)\u001b[49m\n",
      "\u001b[36mFile \u001b[39m\u001b[32m~/Desktop/sports_analytics_scraping/dbt_env/lib/python3.13/site-packages/pandas/core/apply.py:1063\u001b[39m, in \u001b[36mFrameApply.apply_standard\u001b[39m\u001b[34m(self)\u001b[39m\n\u001b[32m   1061\u001b[39m \u001b[38;5;28;01mdef\u001b[39;00m\u001b[38;5;250m \u001b[39m\u001b[34mapply_standard\u001b[39m(\u001b[38;5;28mself\u001b[39m):\n\u001b[32m   1062\u001b[39m     \u001b[38;5;28;01mif\u001b[39;00m \u001b[38;5;28mself\u001b[39m.engine == \u001b[33m\"\u001b[39m\u001b[33mpython\u001b[39m\u001b[33m\"\u001b[39m:\n\u001b[32m-> \u001b[39m\u001b[32m1063\u001b[39m         results, res_index = \u001b[38;5;28;43mself\u001b[39;49m\u001b[43m.\u001b[49m\u001b[43mapply_series_generator\u001b[49m\u001b[43m(\u001b[49m\u001b[43m)\u001b[49m\n\u001b[32m   1064\u001b[39m     \u001b[38;5;28;01melse\u001b[39;00m:\n\u001b[32m   1065\u001b[39m         results, res_index = \u001b[38;5;28mself\u001b[39m.apply_series_numba()\n",
      "\u001b[36mFile \u001b[39m\u001b[32m~/Desktop/sports_analytics_scraping/dbt_env/lib/python3.13/site-packages/pandas/core/apply.py:1081\u001b[39m, in \u001b[36mFrameApply.apply_series_generator\u001b[39m\u001b[34m(self)\u001b[39m\n\u001b[32m   1078\u001b[39m \u001b[38;5;28;01mwith\u001b[39;00m option_context(\u001b[33m\"\u001b[39m\u001b[33mmode.chained_assignment\u001b[39m\u001b[33m\"\u001b[39m, \u001b[38;5;28;01mNone\u001b[39;00m):\n\u001b[32m   1079\u001b[39m     \u001b[38;5;28;01mfor\u001b[39;00m i, v \u001b[38;5;129;01min\u001b[39;00m \u001b[38;5;28menumerate\u001b[39m(series_gen):\n\u001b[32m   1080\u001b[39m         \u001b[38;5;66;03m# ignore SettingWithCopy here in case the user mutates\u001b[39;00m\n\u001b[32m-> \u001b[39m\u001b[32m1081\u001b[39m         results[i] = \u001b[38;5;28;43mself\u001b[39;49m\u001b[43m.\u001b[49m\u001b[43mfunc\u001b[49m\u001b[43m(\u001b[49m\u001b[43mv\u001b[49m\u001b[43m,\u001b[49m\u001b[43m \u001b[49m\u001b[43m*\u001b[49m\u001b[38;5;28;43mself\u001b[39;49m\u001b[43m.\u001b[49m\u001b[43margs\u001b[49m\u001b[43m,\u001b[49m\u001b[43m \u001b[49m\u001b[43m*\u001b[49m\u001b[43m*\u001b[49m\u001b[38;5;28;43mself\u001b[39;49m\u001b[43m.\u001b[49m\u001b[43mkwargs\u001b[49m\u001b[43m)\u001b[49m\n\u001b[32m   1082\u001b[39m         \u001b[38;5;28;01mif\u001b[39;00m \u001b[38;5;28misinstance\u001b[39m(results[i], ABCSeries):\n\u001b[32m   1083\u001b[39m             \u001b[38;5;66;03m# If we have a view on v, we need to make a copy because\u001b[39;00m\n\u001b[32m   1084\u001b[39m             \u001b[38;5;66;03m#  series_generator will swap out the underlying data\u001b[39;00m\n\u001b[32m   1085\u001b[39m             results[i] = results[i].copy(deep=\u001b[38;5;28;01mFalse\u001b[39;00m)\n",
      "\u001b[36mFile \u001b[39m\u001b[32m~/Desktop/sports_analytics_scraping/base_code/basketball_rating_system.py:35\u001b[39m, in \u001b[36mPlayerRatings.add_metrics.<locals>.<lambda>\u001b[39m\u001b[34m(row)\u001b[39m\n\u001b[32m     32\u001b[39m \u001b[38;5;28mself\u001b[39m.benchmark_data[\u001b[33m'\u001b[39m\u001b[33mplaymaking_efficiency_score\u001b[39m\u001b[33m'\u001b[39m] = \u001b[38;5;28mself\u001b[39m.benchmark_data.apply(\u001b[38;5;28;01mlambda\u001b[39;00m row: \u001b[38;5;28mself\u001b[39m._playmaking_efficiency_score(row), axis=\u001b[32m1\u001b[39m)\n\u001b[32m     33\u001b[39m \u001b[38;5;28mself\u001b[39m.scoring_data[\u001b[33m'\u001b[39m\u001b[33mplaymaking_efficiency_score\u001b[39m\u001b[33m'\u001b[39m] = \u001b[38;5;28mself\u001b[39m.scoring_data.apply(\u001b[38;5;28;01mlambda\u001b[39;00m row: \u001b[38;5;28mself\u001b[39m._playmaking_efficiency_score(row), axis=\u001b[32m1\u001b[39m)\n\u001b[32m---> \u001b[39m\u001b[32m35\u001b[39m \u001b[38;5;28mself\u001b[39m.benchmark_data[\u001b[33m'\u001b[39m\u001b[33musage_rate\u001b[39m\u001b[33m'\u001b[39m] = \u001b[38;5;28mself\u001b[39m.benchmark_data.apply(\u001b[38;5;28;01mlambda\u001b[39;00m row: \u001b[38;5;28;43mself\u001b[39;49m\u001b[43m.\u001b[49m\u001b[43m_usage_rate\u001b[49m\u001b[43m(\u001b[49m\u001b[43mrow\u001b[49m\u001b[43m)\u001b[49m, axis=\u001b[32m1\u001b[39m)\n\u001b[32m     36\u001b[39m \u001b[38;5;28mself\u001b[39m.scoring_data[\u001b[33m'\u001b[39m\u001b[33musage_rate\u001b[39m\u001b[33m'\u001b[39m] = \u001b[38;5;28mself\u001b[39m.scoring_data.apply(\u001b[38;5;28;01mlambda\u001b[39;00m row: \u001b[38;5;28mself\u001b[39m._usage_rate(row), axis=\u001b[32m1\u001b[39m)\n\u001b[32m     38\u001b[39m \u001b[38;5;28mself\u001b[39m.benchmark_data[\u001b[33m'\u001b[39m\u001b[33mdefensive_efficiency_rating\u001b[39m\u001b[33m'\u001b[39m] = \u001b[38;5;28mself\u001b[39m.benchmark_data.apply(\u001b[38;5;28;01mlambda\u001b[39;00m row: \u001b[38;5;28mself\u001b[39m._defensive_efficiency_rating(row), axis=\u001b[32m1\u001b[39m)\n",
      "\u001b[36mFile \u001b[39m\u001b[32m~/Desktop/sports_analytics_scraping/base_code/basketball_rating_system.py:106\u001b[39m, in \u001b[36mPlayerRatings._usage_rate\u001b[39m\u001b[34m(self, row)\u001b[39m\n\u001b[32m    104\u001b[39m \u001b[38;5;28;01mdef\u001b[39;00m\u001b[38;5;250m \u001b[39m\u001b[34m_usage_rate\u001b[39m(\u001b[38;5;28mself\u001b[39m, row):\n\u001b[32m    105\u001b[39m     \u001b[38;5;66;03m# Usage Rate = [(FGA + (FTA × 0.44) + TOV) / (Team FGA + (Team FTA × 0.44) + Team TOV)] × 100\u001b[39;00m\n\u001b[32m--> \u001b[39m\u001b[32m106\u001b[39m     player_score = \u001b[43mrow\u001b[49m\u001b[43m[\u001b[49m\u001b[33;43m'\u001b[39;49m\u001b[33;43mplayer_field_goal_attempts\u001b[39;49m\u001b[33;43m'\u001b[39;49m\u001b[43m]\u001b[49m + (row[\u001b[33m'\u001b[39m\u001b[33mplayer_free_throw_attempts\u001b[39m\u001b[33m'\u001b[39m] * \u001b[32m0.44\u001b[39m + row[\u001b[33m'\u001b[39m\u001b[33mplayer_turnovers\u001b[39m\u001b[33m'\u001b[39m]) \n\u001b[32m    107\u001b[39m     team_score = row[\u001b[33m'\u001b[39m\u001b[33mteam_field_goal_attempts\u001b[39m\u001b[33m'\u001b[39m] + (row[\u001b[33m'\u001b[39m\u001b[33mteam_free_throw_attempts\u001b[39m\u001b[33m'\u001b[39m] * \u001b[32m0.44\u001b[39m + row[\u001b[33m'\u001b[39m\u001b[33mteam_turnovers\u001b[39m\u001b[33m'\u001b[39m]) \n\u001b[32m    108\u001b[39m     \u001b[38;5;28;01mif\u001b[39;00m team_score == \u001b[32m0\u001b[39m:\n",
      "\u001b[36mFile \u001b[39m\u001b[32m~/Desktop/sports_analytics_scraping/dbt_env/lib/python3.13/site-packages/pandas/core/series.py:1121\u001b[39m, in \u001b[36mSeries.__getitem__\u001b[39m\u001b[34m(self, key)\u001b[39m\n\u001b[32m   1118\u001b[39m     \u001b[38;5;28;01mreturn\u001b[39;00m \u001b[38;5;28mself\u001b[39m._values[key]\n\u001b[32m   1120\u001b[39m \u001b[38;5;28;01melif\u001b[39;00m key_is_scalar:\n\u001b[32m-> \u001b[39m\u001b[32m1121\u001b[39m     \u001b[38;5;28;01mreturn\u001b[39;00m \u001b[38;5;28;43mself\u001b[39;49m\u001b[43m.\u001b[49m\u001b[43m_get_value\u001b[49m\u001b[43m(\u001b[49m\u001b[43mkey\u001b[49m\u001b[43m)\u001b[49m\n\u001b[32m   1123\u001b[39m \u001b[38;5;66;03m# Convert generator to list before going through hashable part\u001b[39;00m\n\u001b[32m   1124\u001b[39m \u001b[38;5;66;03m# (We will iterate through the generator there to check for slices)\u001b[39;00m\n\u001b[32m   1125\u001b[39m \u001b[38;5;28;01mif\u001b[39;00m is_iterator(key):\n",
      "\u001b[36mFile \u001b[39m\u001b[32m~/Desktop/sports_analytics_scraping/dbt_env/lib/python3.13/site-packages/pandas/core/series.py:1237\u001b[39m, in \u001b[36mSeries._get_value\u001b[39m\u001b[34m(self, label, takeable)\u001b[39m\n\u001b[32m   1234\u001b[39m     \u001b[38;5;28;01mreturn\u001b[39;00m \u001b[38;5;28mself\u001b[39m._values[label]\n\u001b[32m   1236\u001b[39m \u001b[38;5;66;03m# Similar to Index.get_value, but we do not fall back to positional\u001b[39;00m\n\u001b[32m-> \u001b[39m\u001b[32m1237\u001b[39m loc = \u001b[38;5;28;43mself\u001b[39;49m\u001b[43m.\u001b[49m\u001b[43mindex\u001b[49m\u001b[43m.\u001b[49m\u001b[43mget_loc\u001b[49m\u001b[43m(\u001b[49m\u001b[43mlabel\u001b[49m\u001b[43m)\u001b[49m\n\u001b[32m   1239\u001b[39m \u001b[38;5;28;01mif\u001b[39;00m is_integer(loc):\n\u001b[32m   1240\u001b[39m     \u001b[38;5;28;01mreturn\u001b[39;00m \u001b[38;5;28mself\u001b[39m._values[loc]\n",
      "\u001b[36mFile \u001b[39m\u001b[32m~/Desktop/sports_analytics_scraping/dbt_env/lib/python3.13/site-packages/pandas/core/indexes/base.py:3812\u001b[39m, in \u001b[36mIndex.get_loc\u001b[39m\u001b[34m(self, key)\u001b[39m\n\u001b[32m   3807\u001b[39m     \u001b[38;5;28;01mif\u001b[39;00m \u001b[38;5;28misinstance\u001b[39m(casted_key, \u001b[38;5;28mslice\u001b[39m) \u001b[38;5;129;01mor\u001b[39;00m (\n\u001b[32m   3808\u001b[39m         \u001b[38;5;28misinstance\u001b[39m(casted_key, abc.Iterable)\n\u001b[32m   3809\u001b[39m         \u001b[38;5;129;01mand\u001b[39;00m \u001b[38;5;28many\u001b[39m(\u001b[38;5;28misinstance\u001b[39m(x, \u001b[38;5;28mslice\u001b[39m) \u001b[38;5;28;01mfor\u001b[39;00m x \u001b[38;5;129;01min\u001b[39;00m casted_key)\n\u001b[32m   3810\u001b[39m     ):\n\u001b[32m   3811\u001b[39m         \u001b[38;5;28;01mraise\u001b[39;00m InvalidIndexError(key)\n\u001b[32m-> \u001b[39m\u001b[32m3812\u001b[39m     \u001b[38;5;28;01mraise\u001b[39;00m \u001b[38;5;167;01mKeyError\u001b[39;00m(key) \u001b[38;5;28;01mfrom\u001b[39;00m\u001b[38;5;250m \u001b[39m\u001b[34;01merr\u001b[39;00m\n\u001b[32m   3813\u001b[39m \u001b[38;5;28;01mexcept\u001b[39;00m \u001b[38;5;167;01mTypeError\u001b[39;00m:\n\u001b[32m   3814\u001b[39m     \u001b[38;5;66;03m# If we have a listlike key, _check_indexing_error will raise\u001b[39;00m\n\u001b[32m   3815\u001b[39m     \u001b[38;5;66;03m#  InvalidIndexError. Otherwise we fall through and re-raise\u001b[39;00m\n\u001b[32m   3816\u001b[39m     \u001b[38;5;66;03m#  the TypeError.\u001b[39;00m\n\u001b[32m   3817\u001b[39m     \u001b[38;5;28mself\u001b[39m._check_indexing_error(key)\n",
      "\u001b[31mKeyError\u001b[39m: 'player_field_goal_attempts'"
     ]
    }
   ],
   "source": [
    "pr.add_metrics()"
   ]
  },
  {
   "cell_type": "code",
   "execution_count": 45,
   "id": "f01086df-9fa3-49d2-9f99-7ae0c4a5bd9a",
   "metadata": {},
   "outputs": [],
   "source": []
  },
  {
   "cell_type": "code",
   "execution_count": null,
   "id": "c8cb7d08-3438-41c8-abac-189f4a5eb483",
   "metadata": {},
   "outputs": [],
   "source": [
    "%%time\n",
    "\n",
    "query = \"\"\"\n",
    "    select \n",
    "    distinct \n",
    "    pl\n",
    "    from basketball.f_player_game_box_scores\n",
    "\n",
    "\n",
    "\"\"\"\n",
    "\n",
    "season_df = qdb.query_to_dataframe(query, conn_string)\n"
   ]
  }
 ],
 "metadata": {
  "kernelspec": {
   "display_name": "Python 3 (ipykernel)",
   "language": "python",
   "name": "python3"
  },
  "language_info": {
   "codemirror_mode": {
    "name": "ipython",
    "version": 3
   },
   "file_extension": ".py",
   "mimetype": "text/x-python",
   "name": "python",
   "nbconvert_exporter": "python",
   "pygments_lexer": "ipython3",
   "version": "3.13.2"
  }
 },
 "nbformat": 4,
 "nbformat_minor": 5
}
