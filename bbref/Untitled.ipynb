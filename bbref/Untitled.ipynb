{
 "cells": [
  {
   "cell_type": "code",
   "execution_count": 1,
   "id": "df1e6ac9-e6e8-45e9-95e4-208f7d5dd1d3",
   "metadata": {},
   "outputs": [],
   "source": [
    "import os\n",
    "import pandas as pd"
   ]
  },
  {
   "cell_type": "code",
   "execution_count": 13,
   "id": "b2afdcc6-ce9a-443d-8d87-32727adc0e7b",
   "metadata": {},
   "outputs": [],
   "source": [
    "folder = 'raw_data/rosters/WNBA'\n",
    "arr = [i for i in os.listdir(folder) if 'ipynb' not in i]\n",
    "for i in arr:\n",
    "    fp = os.path.join(folder, i)\n",
    "    os.remove(fp)"
   ]
  },
  {
   "cell_type": "code",
   "execution_count": null,
   "id": "a0dc89b3-4143-494d-81e9-b7df3fbeb125",
   "metadata": {},
   "outputs": [],
   "source": []
  }
 ],
 "metadata": {
  "kernelspec": {
   "display_name": "Python 3 (ipykernel)",
   "language": "python",
   "name": "python3"
  },
  "language_info": {
   "codemirror_mode": {
    "name": "ipython",
    "version": 3
   },
   "file_extension": ".py",
   "mimetype": "text/x-python",
   "name": "python",
   "nbconvert_exporter": "python",
   "pygments_lexer": "ipython3",
   "version": "3.13.2"
  }
 },
 "nbformat": 4,
 "nbformat_minor": 5
}
